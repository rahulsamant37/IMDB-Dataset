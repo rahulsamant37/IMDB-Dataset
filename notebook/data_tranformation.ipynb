{
 "cells": [
  {
   "cell_type": "code",
   "execution_count": 1,
   "metadata": {},
   "outputs": [
    {
     "data": {
      "text/plain": [
       "'d:\\\\IMDB-Dataset\\\\notebook'"
      ]
     },
     "execution_count": 1,
     "metadata": {},
     "output_type": "execute_result"
    }
   ],
   "source": [
    "%pwd"
   ]
  },
  {
   "cell_type": "code",
   "execution_count": 2,
   "metadata": {},
   "outputs": [
    {
     "data": {
      "text/plain": [
       "'d:\\\\IMDB-Dataset'"
      ]
     },
     "execution_count": 2,
     "metadata": {},
     "output_type": "execute_result"
    }
   ],
   "source": [
    "import os\n",
    "os.chdir('../')\n",
    "%pwd"
   ]
  },
  {
   "cell_type": "code",
   "execution_count": 3,
   "metadata": {},
   "outputs": [],
   "source": [
    "from dataclasses import dataclass\n",
    "from pathlib import Path\n",
    "\n",
    "@dataclass\n",
    "class DataTransformationConfig:\n",
    "    root_dir:Path\n",
    "    data_path: Path"
   ]
  },
  {
   "cell_type": "code",
   "execution_count": 4,
   "metadata": {},
   "outputs": [],
   "source": [
    "from src.constants import *\n",
    "from src.utils.common import read_yaml, create_directories"
   ]
  },
  {
   "cell_type": "code",
   "execution_count": 5,
   "metadata": {},
   "outputs": [],
   "source": [
    "class ConfigurationManager:\n",
    "    def __init__(\n",
    "        self,\n",
    "        config_filepath = CONFIG_FILE_PATH,\n",
    "        params_filepath = PARAMS_FILE_PATH,\n",
    "        schema_filepath = SCHEMA_FILE_PATH):\n",
    "\n",
    "        self.config = read_yaml(config_filepath)\n",
    "        self.params = read_yaml(params_filepath)\n",
    "        self.schema = read_yaml(schema_filepath)\n",
    "\n",
    "        create_directories([self.config.artifacts_root])\n",
    "\n",
    "    def get_data_transformation_config(self) -> DataTransformationConfig:\n",
    "        config=self.config.data_transformation\n",
    "        create_directories([config.root_dir])\n",
    "        data_tranformation_config=DataTransformationConfig(\n",
    "            root_dir=config.root_dir,\n",
    "            data_path=config.data_path\n",
    "        )\n",
    "        return data_tranformation_config"
   ]
  },
  {
   "cell_type": "code",
   "execution_count": null,
   "metadata": {},
   "outputs": [],
   "source": [
    "import polars as pl\n",
    "from sklearn.feature_extraction.text import CountVectorizer\n",
    "from sklearn.preprocessing import LabelEncoder"
   ]
  },
  {
   "cell_type": "code",
   "execution_count": null,
   "metadata": {},
   "outputs": [],
   "source": [
    "df = pl.read_csv(\"artifacts/data_ingestion/IMDB_Dataset.csv\")\n",
    "df = df.drop_duplicates()"
   ]
  },
  {
   "cell_type": "code",
   "execution_count": null,
   "metadata": {},
   "outputs": [],
   "source": [
    "reviews = df['review'].to_list()\n",
    "vectorizer = CountVectorizer()\n",
    "X = vectorizer.fit_transform(reviews)\n",
    "dense_X = X.toarray()\n",
    "df_vectorized = pl.DataFrame(dense_X)"
   ]
  },
  {
   "cell_type": "code",
   "execution_count": null,
   "metadata": {},
   "outputs": [],
   "source": [
    "le = LabelEncoder()\n",
    "encoded_sentiment = le.fit_transform(df['sentiment'].to_list())\n",
    "df_vectorized = df_vectorized.with_columns(\n",
    "    pl.Series(\"sentiment\", encoded_sentiment)\n",
    ")"
   ]
  },
  {
   "cell_type": "code",
   "execution_count": 14,
   "metadata": {},
   "outputs": [
    {
     "name": "stdout",
     "output_type": "stream",
     "text": [
      "shape: (5, 35_214)\n",
      "┌──────────┬──────────┬──────────┬──────────┬───┬────────────┬────────────┬────────────┬───────────┐\n",
      "│ column_0 ┆ column_1 ┆ column_2 ┆ column_3 ┆ … ┆ column_352 ┆ column_352 ┆ column_352 ┆ column_35 │\n",
      "│ ---      ┆ ---      ┆ ---      ┆ ---      ┆   ┆ 10         ┆ 11         ┆ 12         ┆ 213       │\n",
      "│ i64      ┆ i64      ┆ i64      ┆ i64      ┆   ┆ ---        ┆ ---        ┆ ---        ┆ ---       │\n",
      "│          ┆          ┆          ┆          ┆   ┆ i64        ┆ i64        ┆ i64        ┆ i64       │\n",
      "╞══════════╪══════════╪══════════╪══════════╪═══╪════════════╪════════════╪════════════╪═══════════╡\n",
      "│ 0        ┆ 0        ┆ 0        ┆ 0        ┆ … ┆ 0          ┆ 0          ┆ 0          ┆ 0         │\n",
      "│ 0        ┆ 0        ┆ 0        ┆ 0        ┆ … ┆ 0          ┆ 0          ┆ 0          ┆ 0         │\n",
      "│ 0        ┆ 0        ┆ 0        ┆ 0        ┆ … ┆ 0          ┆ 0          ┆ 0          ┆ 0         │\n",
      "│ 0        ┆ 0        ┆ 0        ┆ 0        ┆ … ┆ 0          ┆ 0          ┆ 0          ┆ 0         │\n",
      "│ 0        ┆ 0        ┆ 0        ┆ 0        ┆ … ┆ 0          ┆ 0          ┆ 0          ┆ 0         │\n",
      "└──────────┴──────────┴──────────┴──────────┴───┴────────────┴────────────┴────────────┴───────────┘\n"
     ]
    }
   ],
   "source": [
    "print(df_vectorized.head())"
   ]
  },
  {
   "cell_type": "code",
   "execution_count": 12,
   "metadata": {},
   "outputs": [],
   "source": [
    "import os\n",
    "import pandas as pd\n",
    "from src import logger\n",
    "from sklearn.preprocessing import LabelEncoder\n",
    "from tensorflow.keras.preprocessing.text import Tokenizer\n",
    "from tensorflow.keras.preprocessing.sequence import pad_sequences\n",
    "from sklearn.model_selection import train_test_split"
   ]
  },
  {
   "cell_type": "code",
   "execution_count": 13,
   "metadata": {},
   "outputs": [],
   "source": [
    "class DataTransformation:\n",
    "    def __init__(self, config: DataTransformationConfig):\n",
    "        self.config = config\n",
    "\n",
    "    def train_test_splitting(self):\n",
    "        try:\n",
    "            # Read the dataset\n",
    "            df = pd.read_csv(self.config.data_path)\n",
    "\n",
    "            # Drop duplicates\n",
    "            df = df.drop_duplicates()\n",
    "            logger.info(f\"Shape after dropping duplicates: {df.shape}\")\n",
    "\n",
    "            # Encode the 'sentiment' column\n",
    "            le = LabelEncoder()\n",
    "            encoded_last_col = le.fit_transform(df.iloc[:, -1])\n",
    "            df['sentiment'] = encoded_last_col\n",
    "\n",
    "            # Tokenize the 'review' column\n",
    "            tokenizer = Tokenizer(num_words=20000, oov_token=\"<OOV>\")\n",
    "            tokenizer.fit_on_texts(df['review'])\n",
    "            sequences = tokenizer.texts_to_sequences(df['review'])\n",
    "\n",
    "            # Pad the sequences\n",
    "            df['review'] = list(pad_sequences(sequences, maxlen=100, padding='post'))\n",
    "\n",
    "\n",
    "            # Split the data into training and test sets (75%, 25%)\n",
    "            train, test = train_test_split(df, test_size=0.25, random_state=42)\n",
    "\n",
    "            # Ensure the root directory exists\n",
    "            os.makedirs(self.config.root_dir, exist_ok=True)\n",
    "\n",
    "            # Save training and test sets to CSV\n",
    "            train_path = os.path.join(self.config.root_dir, \"train.csv\")\n",
    "            test_path = os.path.join(self.config.root_dir, \"test.csv\")\n",
    "            train.to_csv(train_path, index=False)\n",
    "            test.to_csv(test_path, index=False)\n",
    "\n",
    "            # Log details\n",
    "            logger.info(\"Split data into training and test sets\")\n",
    "            logger.info(f\"Training set shape: {train.shape}\")\n",
    "            logger.info(f\"Test set shape: {test.shape}\")\n",
    "\n",
    "            print(f\"Training set shape: {train.shape}\")\n",
    "            print(f\"Test set shape: {test.shape}\")\n",
    "        except Exception as e:\n",
    "            logger.error(f\"Error during train-test splitting: {e}\")\n",
    "            raise"
   ]
  },
  {
   "cell_type": "code",
   "execution_count": 14,
   "metadata": {},
   "outputs": [
    {
     "name": "stdout",
     "output_type": "stream",
     "text": [
      "[2024-12-25 11:15:40,432: INFO: common: yaml file: config\\config.yaml loaded successfully]\n",
      "[2024-12-25 11:15:40,463: INFO: common: yaml file: params.yaml loaded successfully]\n",
      "[2024-12-25 11:15:40,463: INFO: common: yaml file: schema.yaml loaded successfully]\n",
      "[2024-12-25 11:15:40,463: INFO: common: created directory at: artifacts]\n",
      "[2024-12-25 11:15:40,543: INFO: common: created directory at: artifacts/data_transformation]\n",
      "[2024-12-25 11:15:41,055: INFO: 689007881: Shape after dropping duplicates: (3997, 2)]\n",
      "[2024-12-25 11:15:44,746: INFO: 689007881: Split data into training and test sets]\n",
      "[2024-12-25 11:15:44,746: INFO: 689007881: Training set shape: (2997, 2)]\n",
      "[2024-12-25 11:15:44,746: INFO: 689007881: Test set shape: (1000, 2)]\n",
      "Training set shape: (2997, 2)\n",
      "Test set shape: (1000, 2)\n"
     ]
    }
   ],
   "source": [
    "try:\n",
    "    config = ConfigurationManager()\n",
    "    data_transformation_config = config.get_data_transformation_config()\n",
    "    data_transformation = DataTransformation(config=data_transformation_config)\n",
    "    data_transformation.train_test_splitting()\n",
    "except Exception as e:\n",
    "    raise e"
   ]
  },
  {
   "cell_type": "code",
   "execution_count": null,
   "metadata": {},
   "outputs": [],
   "source": []
  }
 ],
 "metadata": {
  "kernelspec": {
   "display_name": "Python 3",
   "language": "python",
   "name": "python3"
  },
  "language_info": {
   "codemirror_mode": {
    "name": "ipython",
    "version": 3
   },
   "file_extension": ".py",
   "mimetype": "text/x-python",
   "name": "python",
   "nbconvert_exporter": "python",
   "pygments_lexer": "ipython3",
   "version": "3.12.0"
  }
 },
 "nbformat": 4,
 "nbformat_minor": 2
}
